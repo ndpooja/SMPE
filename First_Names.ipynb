{
 "cells": [
  {
   "cell_type": "markdown",
   "metadata": {
    "id": "QZLVsIoqtFp0"
   },
   "source": [
    "# **French given names per year per department**\n",
    "## Author : Kumari Pooja\n",
    "## Date : November 2020\n",
    "\n",
    "Here, we are going to do analysis on First name from the data- [given names data set of INSEE](https://www.insee.fr/fr/statistiques/fichier/2540004/dpt2019_csv.zip)"
   ]
  },
  {
   "cell_type": "markdown",
   "metadata": {
    "id": "HBzft84jW1Y8"
   },
   "source": [
    "Loading the necessary libraries"
   ]
  },
  {
   "cell_type": "code",
   "execution_count": 1,
   "metadata": {
    "id": "i0DB-DxytrPg"
   },
   "outputs": [],
   "source": [
    "import pandas as pd\n",
    "import numpy as np\n",
    "from io import BytesIO\n",
    "from zipfile import ZipFile\n",
    "from urllib.request import urlopen"
   ]
  },
  {
   "cell_type": "markdown",
   "metadata": {
    "id": "LHlu1S1ZW7PE"
   },
   "source": [
    "Read the CSV file from the URL provided"
   ]
  },
  {
   "cell_type": "code",
   "execution_count": 2,
   "metadata": {
    "id": "WojJEw0y-lTw"
   },
   "outputs": [],
   "source": [
    "url = urlopen(\"https://www.insee.fr/fr/statistiques/fichier/2540004/dpt2019_csv.zip\")\n",
    "#Download Zipfile and create pandas DataFrame\n",
    "zipfile = ZipFile(BytesIO(url.read()))\n",
    "FirstNames = pd.read_csv(zipfile.open('dpt2019.csv'), delimiter = \";\")"
   ]
  },
  {
   "cell_type": "markdown",
   "metadata": {
    "id": "_pHxqRwJXCxU"
   },
   "source": [
    "Check its contents"
   ]
  },
  {
   "cell_type": "code",
   "execution_count": 3,
   "metadata": {
    "colab": {
     "base_uri": "https://localhost:8080/",
     "height": 391
    },
    "id": "r7yxWztS_0CE",
    "outputId": "ecc6bb08-3969-4030-8858-92e080a66867"
   },
   "outputs": [
    {
     "data": {
      "text/html": [
       "<div>\n",
       "<style scoped>\n",
       "    .dataframe tbody tr th:only-of-type {\n",
       "        vertical-align: middle;\n",
       "    }\n",
       "\n",
       "    .dataframe tbody tr th {\n",
       "        vertical-align: top;\n",
       "    }\n",
       "\n",
       "    .dataframe thead th {\n",
       "        text-align: right;\n",
       "    }\n",
       "</style>\n",
       "<table border=\"1\" class=\"dataframe\">\n",
       "  <thead>\n",
       "    <tr style=\"text-align: right;\">\n",
       "      <th></th>\n",
       "      <th>sexe</th>\n",
       "      <th>preusuel</th>\n",
       "      <th>annais</th>\n",
       "      <th>dpt</th>\n",
       "      <th>nombre</th>\n",
       "    </tr>\n",
       "  </thead>\n",
       "  <tbody>\n",
       "    <tr>\n",
       "      <th>0</th>\n",
       "      <td>1</td>\n",
       "      <td>_PRENOMS_RARES</td>\n",
       "      <td>1900</td>\n",
       "      <td>02</td>\n",
       "      <td>7</td>\n",
       "    </tr>\n",
       "    <tr>\n",
       "      <th>1</th>\n",
       "      <td>1</td>\n",
       "      <td>_PRENOMS_RARES</td>\n",
       "      <td>1900</td>\n",
       "      <td>04</td>\n",
       "      <td>9</td>\n",
       "    </tr>\n",
       "    <tr>\n",
       "      <th>2</th>\n",
       "      <td>1</td>\n",
       "      <td>_PRENOMS_RARES</td>\n",
       "      <td>1900</td>\n",
       "      <td>05</td>\n",
       "      <td>8</td>\n",
       "    </tr>\n",
       "    <tr>\n",
       "      <th>3</th>\n",
       "      <td>1</td>\n",
       "      <td>_PRENOMS_RARES</td>\n",
       "      <td>1900</td>\n",
       "      <td>06</td>\n",
       "      <td>23</td>\n",
       "    </tr>\n",
       "    <tr>\n",
       "      <th>4</th>\n",
       "      <td>1</td>\n",
       "      <td>_PRENOMS_RARES</td>\n",
       "      <td>1900</td>\n",
       "      <td>07</td>\n",
       "      <td>9</td>\n",
       "    </tr>\n",
       "    <tr>\n",
       "      <th>...</th>\n",
       "      <td>...</td>\n",
       "      <td>...</td>\n",
       "      <td>...</td>\n",
       "      <td>...</td>\n",
       "      <td>...</td>\n",
       "    </tr>\n",
       "    <tr>\n",
       "      <th>3676677</th>\n",
       "      <td>2</td>\n",
       "      <td>ZYA</td>\n",
       "      <td>2018</td>\n",
       "      <td>59</td>\n",
       "      <td>3</td>\n",
       "    </tr>\n",
       "    <tr>\n",
       "      <th>3676678</th>\n",
       "      <td>2</td>\n",
       "      <td>ZYA</td>\n",
       "      <td>XXXX</td>\n",
       "      <td>XX</td>\n",
       "      <td>252</td>\n",
       "    </tr>\n",
       "    <tr>\n",
       "      <th>3676679</th>\n",
       "      <td>2</td>\n",
       "      <td>ZYNA</td>\n",
       "      <td>2013</td>\n",
       "      <td>93</td>\n",
       "      <td>3</td>\n",
       "    </tr>\n",
       "    <tr>\n",
       "      <th>3676680</th>\n",
       "      <td>2</td>\n",
       "      <td>ZYNA</td>\n",
       "      <td>XXXX</td>\n",
       "      <td>XX</td>\n",
       "      <td>54</td>\n",
       "    </tr>\n",
       "    <tr>\n",
       "      <th>3676681</th>\n",
       "      <td>2</td>\n",
       "      <td>ZYNEB</td>\n",
       "      <td>XXXX</td>\n",
       "      <td>XX</td>\n",
       "      <td>111</td>\n",
       "    </tr>\n",
       "  </tbody>\n",
       "</table>\n",
       "<p>3676682 rows × 5 columns</p>\n",
       "</div>"
      ],
      "text/plain": [
       "         sexe        preusuel annais dpt  nombre\n",
       "0           1  _PRENOMS_RARES   1900  02       7\n",
       "1           1  _PRENOMS_RARES   1900  04       9\n",
       "2           1  _PRENOMS_RARES   1900  05       8\n",
       "3           1  _PRENOMS_RARES   1900  06      23\n",
       "4           1  _PRENOMS_RARES   1900  07       9\n",
       "...       ...             ...    ...  ..     ...\n",
       "3676677     2             ZYA   2018  59       3\n",
       "3676678     2             ZYA   XXXX  XX     252\n",
       "3676679     2            ZYNA   2013  93       3\n",
       "3676680     2            ZYNA   XXXX  XX      54\n",
       "3676681     2           ZYNEB   XXXX  XX     111\n",
       "\n",
       "[3676682 rows x 5 columns]"
      ]
     },
     "execution_count": 3,
     "metadata": {
      "tags": []
     },
     "output_type": "execute_result"
    }
   ],
   "source": [
    "FirstNames"
   ]
  },
  {
   "cell_type": "markdown",
   "metadata": {
    "id": "6EGGzmEZXHg7"
   },
   "source": [
    "Here,\n",
    "\n",
    "Translation in english of variables names: \n",
    "\n",
    "*   sexe -> gender \n",
    "*   preusuel (prénom usuel) -> Firstname\n",
    "*   annais (année de naissance) -> Birth year\n",
    "*   dpt (département) -> department (administrative area unit)\n",
    "*   nombre -> number\n",
    "\n"
   ]
  },
  {
   "cell_type": "markdown",
   "metadata": {
    "id": "QBChG_jDdIjk"
   },
   "source": [
    "Remove unwanted rows like having no first names, empty cells and XXXX contained rows"
   ]
  },
  {
   "cell_type": "code",
   "execution_count": 4,
   "metadata": {
    "id": "aIwuhH08de9o"
   },
   "outputs": [],
   "source": [
    "# Cleaning the data\n",
    "FirstNames.dropna()\n",
    "FirstNames.drop(FirstNames.index[FirstNames['preusuel'] == '_PRENOMS_RARES'],\n",
    "                inplace = True)\n",
    "FirstNames.drop(FirstNames.index[FirstNames['annais'] == 'XXXX'],\n",
    "                inplace = True)\n",
    "FirstNames.drop(FirstNames.index[FirstNames['dpt'] == 'XX'],\n",
    "                inplace = True)\n",
    "\n",
    "#Check incase sex type is anonymized\n",
    "FirstNames.drop(FirstNames.index[FirstNames['sexe'] == 'X'],\n",
    "                inplace = True)"
   ]
  },
  {
   "cell_type": "code",
   "execution_count": 5,
   "metadata": {
    "colab": {
     "base_uri": "https://localhost:8080/",
     "height": 391
    },
    "id": "6gEftEZrQqvR",
    "outputId": "5dd9f4ea-56e7-44ef-ff00-da8aad9d878f"
   },
   "outputs": [
    {
     "data": {
      "text/html": [
       "<div>\n",
       "<style scoped>\n",
       "    .dataframe tbody tr th:only-of-type {\n",
       "        vertical-align: middle;\n",
       "    }\n",
       "\n",
       "    .dataframe tbody tr th {\n",
       "        vertical-align: top;\n",
       "    }\n",
       "\n",
       "    .dataframe thead th {\n",
       "        text-align: right;\n",
       "    }\n",
       "</style>\n",
       "<table border=\"1\" class=\"dataframe\">\n",
       "  <thead>\n",
       "    <tr style=\"text-align: right;\">\n",
       "      <th></th>\n",
       "      <th>sexe</th>\n",
       "      <th>preusuel</th>\n",
       "      <th>annais</th>\n",
       "      <th>dpt</th>\n",
       "      <th>nombre</th>\n",
       "    </tr>\n",
       "  </thead>\n",
       "  <tbody>\n",
       "    <tr>\n",
       "      <th>10784</th>\n",
       "      <td>1</td>\n",
       "      <td>AADIL</td>\n",
       "      <td>1983</td>\n",
       "      <td>84</td>\n",
       "      <td>3</td>\n",
       "    </tr>\n",
       "    <tr>\n",
       "      <th>10785</th>\n",
       "      <td>1</td>\n",
       "      <td>AADIL</td>\n",
       "      <td>1992</td>\n",
       "      <td>92</td>\n",
       "      <td>3</td>\n",
       "    </tr>\n",
       "    <tr>\n",
       "      <th>10787</th>\n",
       "      <td>1</td>\n",
       "      <td>AAHIL</td>\n",
       "      <td>2016</td>\n",
       "      <td>95</td>\n",
       "      <td>3</td>\n",
       "    </tr>\n",
       "    <tr>\n",
       "      <th>10790</th>\n",
       "      <td>1</td>\n",
       "      <td>AARON</td>\n",
       "      <td>1962</td>\n",
       "      <td>75</td>\n",
       "      <td>3</td>\n",
       "    </tr>\n",
       "    <tr>\n",
       "      <th>10791</th>\n",
       "      <td>1</td>\n",
       "      <td>AARON</td>\n",
       "      <td>1976</td>\n",
       "      <td>75</td>\n",
       "      <td>3</td>\n",
       "    </tr>\n",
       "    <tr>\n",
       "      <th>...</th>\n",
       "      <td>...</td>\n",
       "      <td>...</td>\n",
       "      <td>...</td>\n",
       "      <td>...</td>\n",
       "      <td>...</td>\n",
       "    </tr>\n",
       "    <tr>\n",
       "      <th>3676674</th>\n",
       "      <td>2</td>\n",
       "      <td>ZYA</td>\n",
       "      <td>2013</td>\n",
       "      <td>44</td>\n",
       "      <td>4</td>\n",
       "    </tr>\n",
       "    <tr>\n",
       "      <th>3676675</th>\n",
       "      <td>2</td>\n",
       "      <td>ZYA</td>\n",
       "      <td>2013</td>\n",
       "      <td>59</td>\n",
       "      <td>3</td>\n",
       "    </tr>\n",
       "    <tr>\n",
       "      <th>3676676</th>\n",
       "      <td>2</td>\n",
       "      <td>ZYA</td>\n",
       "      <td>2017</td>\n",
       "      <td>974</td>\n",
       "      <td>3</td>\n",
       "    </tr>\n",
       "    <tr>\n",
       "      <th>3676677</th>\n",
       "      <td>2</td>\n",
       "      <td>ZYA</td>\n",
       "      <td>2018</td>\n",
       "      <td>59</td>\n",
       "      <td>3</td>\n",
       "    </tr>\n",
       "    <tr>\n",
       "      <th>3676679</th>\n",
       "      <td>2</td>\n",
       "      <td>ZYNA</td>\n",
       "      <td>2013</td>\n",
       "      <td>93</td>\n",
       "      <td>3</td>\n",
       "    </tr>\n",
       "  </tbody>\n",
       "</table>\n",
       "<p>3618401 rows × 5 columns</p>\n",
       "</div>"
      ],
      "text/plain": [
       "         sexe preusuel annais  dpt  nombre\n",
       "10784       1    AADIL   1983   84       3\n",
       "10785       1    AADIL   1992   92       3\n",
       "10787       1    AAHIL   2016   95       3\n",
       "10790       1    AARON   1962   75       3\n",
       "10791       1    AARON   1976   75       3\n",
       "...       ...      ...    ...  ...     ...\n",
       "3676674     2      ZYA   2013   44       4\n",
       "3676675     2      ZYA   2013   59       3\n",
       "3676676     2      ZYA   2017  974       3\n",
       "3676677     2      ZYA   2018   59       3\n",
       "3676679     2     ZYNA   2013   93       3\n",
       "\n",
       "[3618401 rows x 5 columns]"
      ]
     },
     "execution_count": 5,
     "metadata": {
      "tags": []
     },
     "output_type": "execute_result"
    }
   ],
   "source": [
    "FirstNames"
   ]
  },
  {
   "cell_type": "markdown",
   "metadata": {
    "id": "sv0uSC0-Xn18"
   },
   "source": [
    "Get files having specific firstname"
   ]
  },
  {
   "cell_type": "code",
   "execution_count": 12,
   "metadata": {
    "id": "CRPEgKhPRTJa"
   },
   "outputs": [],
   "source": [
    "F1 = FirstNames.loc[FirstNames[\"preusuel\"]==\"JACOB\"]\n",
    "F2 = FirstNames.loc[FirstNames[\"preusuel\"]==\"PHILIPPE\"]\n",
    "F3 = FirstNames.loc[FirstNames[\"preusuel\"]==\"DAVID\"]\n",
    "F4 = FirstNames.loc[FirstNames[\"preusuel\"]==\"JOE\"]"
   ]
  },
  {
   "cell_type": "markdown",
   "metadata": {
    "id": "PCCymDUWXudY"
   },
   "source": [
    "Plotting the frequency of firstnames with the years"
   ]
  },
  {
   "cell_type": "code",
   "execution_count": 29,
   "metadata": {
    "colab": {
     "base_uri": "https://localhost:8080/",
     "height": 730
    },
    "id": "qTQL5bc9RYcI",
    "outputId": "888b29b4-22cb-46bc-bcdf-a82808d289f9"
   },
   "outputs": [
    {
     "data": {
      "image/png": "[encoded data removed]",
      "text/plain": [
       "<Figure size 864x864 with 4 Axes>"
      ]
     },
     "metadata": {
      "needs_background": "light",
      "tags": []
     },
     "output_type": "display_data"
    }
   ],
   "source": [
    "import matplotlib.pyplot as plt\n",
    "fig, (axes) = plt.subplots(nrows=2,ncols=2,figsize=(12,12))\n",
    "axes[0, 0].set_title(\"JACOB\")\n",
    "axes[0, 1].set_title(\"PHILIPPE\")\n",
    "axes[1, 0].set_title(\"DAVID\")\n",
    "axes[1, 1].set_title(\"JOE\")\n",
    "F1.plot(x='annais', y='nombre',ax = axes[0,0])\n",
    "F2.plot(x='annais', y='nombre',ax = axes[0,1])\n",
    "F3.plot(x='annais', y='nombre',ax = axes[1,0])\n",
    "F4.plot(x='annais', y='nombre',ax = axes[1,1])\n",
    "plt.show()"
   ]
  },
  {
   "cell_type": "markdown",
   "metadata": {
    "id": "iMQ_y4M2X61Z"
   },
   "source": [
    " \n",
    "\n",
    "\n",
    "*   1: belongs to Male firstnames\n",
    "*   2: belongs to Female Fistnames\n",
    "\n",
    "Sort them in seperate files for further analysis\n",
    "\n",
    "\n",
    "\n"
   ]
  },
  {
   "cell_type": "code",
   "execution_count": 14,
   "metadata": {
    "id": "OpDhseaJT2eh"
   },
   "outputs": [],
   "source": [
    "Male = FirstNames[FirstNames['sexe']==1]\n",
    "Female = FirstNames[FirstNames['sexe']==2]"
   ]
  },
  {
   "cell_type": "markdown",
   "metadata": {
    "id": "91tN1KuKYsvM"
   },
   "source": [
    "To find the maximum frequency of first name given, we can group gender data with respect to maximum number with years and find which has maximum frequency"
   ]
  },
  {
   "cell_type": "code",
   "execution_count": 18,
   "metadata": {
    "colab": {
     "base_uri": "https://localhost:8080/",
     "height": 391
    },
    "id": "C83IBsg-Tx2p",
    "outputId": "e313865b-7780-4a93-e656-fc7219c6f9c4"
   },
   "outputs": [
    {
     "data": {
      "text/html": [
       "<div>\n",
       "<style scoped>\n",
       "    .dataframe tbody tr th:only-of-type {\n",
       "        vertical-align: middle;\n",
       "    }\n",
       "\n",
       "    .dataframe tbody tr th {\n",
       "        vertical-align: top;\n",
       "    }\n",
       "\n",
       "    .dataframe thead th {\n",
       "        text-align: right;\n",
       "    }\n",
       "</style>\n",
       "<table border=\"1\" class=\"dataframe\">\n",
       "  <thead>\n",
       "    <tr style=\"text-align: right;\">\n",
       "      <th></th>\n",
       "      <th>sexe</th>\n",
       "      <th>preusuel</th>\n",
       "      <th>annais</th>\n",
       "      <th>dpt</th>\n",
       "      <th>nombre</th>\n",
       "    </tr>\n",
       "  </thead>\n",
       "  <tbody>\n",
       "    <tr>\n",
       "      <th>582855</th>\n",
       "      <td>1</td>\n",
       "      <td>GABRIEL</td>\n",
       "      <td>2018</td>\n",
       "      <td>75</td>\n",
       "      <td>341</td>\n",
       "    </tr>\n",
       "    <tr>\n",
       "      <th>25153</th>\n",
       "      <td>1</td>\n",
       "      <td>ADAM</td>\n",
       "      <td>2015</td>\n",
       "      <td>75</td>\n",
       "      <td>357</td>\n",
       "    </tr>\n",
       "    <tr>\n",
       "      <th>582462</th>\n",
       "      <td>1</td>\n",
       "      <td>GABRIEL</td>\n",
       "      <td>2014</td>\n",
       "      <td>75</td>\n",
       "      <td>368</td>\n",
       "    </tr>\n",
       "    <tr>\n",
       "      <th>582953</th>\n",
       "      <td>1</td>\n",
       "      <td>GABRIEL</td>\n",
       "      <td>2019</td>\n",
       "      <td>75</td>\n",
       "      <td>371</td>\n",
       "    </tr>\n",
       "    <tr>\n",
       "      <th>582658</th>\n",
       "      <td>1</td>\n",
       "      <td>GABRIEL</td>\n",
       "      <td>2016</td>\n",
       "      <td>75</td>\n",
       "      <td>372</td>\n",
       "    </tr>\n",
       "    <tr>\n",
       "      <th>...</th>\n",
       "      <td>...</td>\n",
       "      <td>...</td>\n",
       "      <td>...</td>\n",
       "      <td>...</td>\n",
       "      <td>...</td>\n",
       "    </tr>\n",
       "    <tr>\n",
       "      <th>763361</th>\n",
       "      <td>1</td>\n",
       "      <td>JEAN</td>\n",
       "      <td>1931</td>\n",
       "      <td>75</td>\n",
       "      <td>3555</td>\n",
       "    </tr>\n",
       "    <tr>\n",
       "      <th>49630</th>\n",
       "      <td>1</td>\n",
       "      <td>ALAIN</td>\n",
       "      <td>1949</td>\n",
       "      <td>75</td>\n",
       "      <td>3566</td>\n",
       "    </tr>\n",
       "    <tr>\n",
       "      <th>764959</th>\n",
       "      <td>1</td>\n",
       "      <td>JEAN</td>\n",
       "      <td>1948</td>\n",
       "      <td>75</td>\n",
       "      <td>4292</td>\n",
       "    </tr>\n",
       "    <tr>\n",
       "      <th>764865</th>\n",
       "      <td>1</td>\n",
       "      <td>JEAN</td>\n",
       "      <td>1947</td>\n",
       "      <td>75</td>\n",
       "      <td>5792</td>\n",
       "    </tr>\n",
       "    <tr>\n",
       "      <th>764771</th>\n",
       "      <td>1</td>\n",
       "      <td>JEAN</td>\n",
       "      <td>1946</td>\n",
       "      <td>75</td>\n",
       "      <td>6316</td>\n",
       "    </tr>\n",
       "  </tbody>\n",
       "</table>\n",
       "<p>120 rows × 5 columns</p>\n",
       "</div>"
      ],
      "text/plain": [
       "        sexe preusuel annais dpt  nombre\n",
       "582855     1  GABRIEL   2018  75     341\n",
       "25153      1     ADAM   2015  75     357\n",
       "582462     1  GABRIEL   2014  75     368\n",
       "582953     1  GABRIEL   2019  75     371\n",
       "582658     1  GABRIEL   2016  75     372\n",
       "...      ...      ...    ...  ..     ...\n",
       "763361     1     JEAN   1931  75    3555\n",
       "49630      1    ALAIN   1949  75    3566\n",
       "764959     1     JEAN   1948  75    4292\n",
       "764865     1     JEAN   1947  75    5792\n",
       "764771     1     JEAN   1946  75    6316\n",
       "\n",
       "[120 rows x 5 columns]"
      ]
     },
     "execution_count": 18,
     "metadata": {
      "tags": []
     },
     "output_type": "execute_result"
    }
   ],
   "source": [
    "male_index = Male.groupby(by=[\"annais\"])['nombre'].transform(max) == Male['nombre']\n",
    "Male_max = Male[male_index].sort_values('nombre')\n",
    "Male_max"
   ]
  },
  {
   "cell_type": "code",
   "execution_count": 19,
   "metadata": {
    "colab": {
     "base_uri": "https://localhost:8080/",
     "height": 391
    },
    "id": "CG7yTgm6T-qz",
    "outputId": "ea0a8868-e1c8-4c79-d249-1ad7ef9284d1"
   },
   "outputs": [
    {
     "data": {
      "text/html": [
       "<div>\n",
       "<style scoped>\n",
       "    .dataframe tbody tr th:only-of-type {\n",
       "        vertical-align: middle;\n",
       "    }\n",
       "\n",
       "    .dataframe tbody tr th {\n",
       "        vertical-align: top;\n",
       "    }\n",
       "\n",
       "    .dataframe thead th {\n",
       "        text-align: right;\n",
       "    }\n",
       "</style>\n",
       "<table border=\"1\" class=\"dataframe\">\n",
       "  <thead>\n",
       "    <tr style=\"text-align: right;\">\n",
       "      <th></th>\n",
       "      <th>sexe</th>\n",
       "      <th>preusuel</th>\n",
       "      <th>annais</th>\n",
       "      <th>dpt</th>\n",
       "      <th>nombre</th>\n",
       "    </tr>\n",
       "  </thead>\n",
       "  <tbody>\n",
       "    <tr>\n",
       "      <th>2868998</th>\n",
       "      <td>2</td>\n",
       "      <td>LOUISE</td>\n",
       "      <td>2019</td>\n",
       "      <td>75</td>\n",
       "      <td>223</td>\n",
       "    </tr>\n",
       "    <tr>\n",
       "      <th>2868904</th>\n",
       "      <td>2</td>\n",
       "      <td>LOUISE</td>\n",
       "      <td>2018</td>\n",
       "      <td>75</td>\n",
       "      <td>228</td>\n",
       "    </tr>\n",
       "    <tr>\n",
       "      <th>2604546</th>\n",
       "      <td>2</td>\n",
       "      <td>JADE</td>\n",
       "      <td>2017</td>\n",
       "      <td>59</td>\n",
       "      <td>241</td>\n",
       "    </tr>\n",
       "    <tr>\n",
       "      <th>2868709</th>\n",
       "      <td>2</td>\n",
       "      <td>LOUISE</td>\n",
       "      <td>2016</td>\n",
       "      <td>75</td>\n",
       "      <td>290</td>\n",
       "    </tr>\n",
       "    <tr>\n",
       "      <th>2868611</th>\n",
       "      <td>2</td>\n",
       "      <td>LOUISE</td>\n",
       "      <td>2015</td>\n",
       "      <td>75</td>\n",
       "      <td>292</td>\n",
       "    </tr>\n",
       "    <tr>\n",
       "      <th>...</th>\n",
       "      <td>...</td>\n",
       "      <td>...</td>\n",
       "      <td>...</td>\n",
       "      <td>...</td>\n",
       "      <td>...</td>\n",
       "    </tr>\n",
       "    <tr>\n",
       "      <th>3011793</th>\n",
       "      <td>2</td>\n",
       "      <td>MARIE</td>\n",
       "      <td>1961</td>\n",
       "      <td>974</td>\n",
       "      <td>3829</td>\n",
       "    </tr>\n",
       "    <tr>\n",
       "      <th>3012075</th>\n",
       "      <td>2</td>\n",
       "      <td>MARIE</td>\n",
       "      <td>1964</td>\n",
       "      <td>974</td>\n",
       "      <td>3930</td>\n",
       "    </tr>\n",
       "    <tr>\n",
       "      <th>3254108</th>\n",
       "      <td>2</td>\n",
       "      <td>NATHALIE</td>\n",
       "      <td>1966</td>\n",
       "      <td>75</td>\n",
       "      <td>3956</td>\n",
       "    </tr>\n",
       "    <tr>\n",
       "      <th>3254014</th>\n",
       "      <td>2</td>\n",
       "      <td>NATHALIE</td>\n",
       "      <td>1965</td>\n",
       "      <td>75</td>\n",
       "      <td>4005</td>\n",
       "    </tr>\n",
       "    <tr>\n",
       "      <th>3011887</th>\n",
       "      <td>2</td>\n",
       "      <td>MARIE</td>\n",
       "      <td>1962</td>\n",
       "      <td>974</td>\n",
       "      <td>4050</td>\n",
       "    </tr>\n",
       "  </tbody>\n",
       "</table>\n",
       "<p>121 rows × 5 columns</p>\n",
       "</div>"
      ],
      "text/plain": [
       "         sexe  preusuel annais  dpt  nombre\n",
       "2868998     2    LOUISE   2019   75     223\n",
       "2868904     2    LOUISE   2018   75     228\n",
       "2604546     2      JADE   2017   59     241\n",
       "2868709     2    LOUISE   2016   75     290\n",
       "2868611     2    LOUISE   2015   75     292\n",
       "...       ...       ...    ...  ...     ...\n",
       "3011793     2     MARIE   1961  974    3829\n",
       "3012075     2     MARIE   1964  974    3930\n",
       "3254108     2  NATHALIE   1966   75    3956\n",
       "3254014     2  NATHALIE   1965   75    4005\n",
       "3011887     2     MARIE   1962  974    4050\n",
       "\n",
       "[121 rows x 5 columns]"
      ]
     },
     "execution_count": 19,
     "metadata": {
      "tags": []
     },
     "output_type": "execute_result"
    }
   ],
   "source": [
    "female_index = Female.groupby(by=[\"annais\"])['nombre'].transform(max) == Female['nombre']\n",
    "Female_max = Female[female_index].sort_values('nombre')\n",
    "Female_max"
   ]
  },
  {
   "cell_type": "markdown",
   "metadata": {
    "id": "TodfBE6GZUbL"
   },
   "source": [
    "We found that \"Jean\" in male and \"Marie\" in female has maximum frequency and following plots have shown it's evolution with the years."
   ]
  },
  {
   "cell_type": "code",
   "execution_count": 28,
   "metadata": {
    "colab": {
     "base_uri": "https://localhost:8080/",
     "height": 512
    },
    "id": "NE8tT9eWSl6-",
    "outputId": "44253883-1bce-48b4-b4db-b66af20a1839"
   },
   "outputs": [
    {
     "data": {
      "image/png": "[encoded data removed]",
      "text/plain": [
       "<Figure size 1152x576 with 2 Axes>"
      ]
     },
     "metadata": {
      "needs_background": "light",
      "tags": []
     },
     "output_type": "display_data"
    }
   ],
   "source": [
    "name1 = FirstNames.loc[FirstNames[\"preusuel\"]==\"JEAN\"]\n",
    "name2 = FirstNames.loc[FirstNames[\"preusuel\"]==\"MARIE\"]\n",
    "\n",
    "fig, (axes) = plt.subplots(nrows=1,ncols=2,figsize=(16,8))\n",
    "axes[0].set_title(\"JEAN\")\n",
    "axes[1].set_title(\"MARIE\")\n",
    "name1.plot(x='annais', y='nombre',ax = axes[0])\n",
    "name2.plot(x='annais', y='nombre',ax = axes[1])\n",
    "plt.show()"
   ]
  },
  {
   "cell_type": "code",
   "execution_count": null,
   "metadata": {
    "id": "5KNPfYR3aJAr"
   },
   "outputs": [],
   "source": []
  }
 ],
 "metadata": {
  "colab": {
   "name": "Untitled3.ipynb",
   "provenance": [],
   "toc_visible": true
  },
  "kernelspec": {
   "display_name": "Python 3",
   "language": "python",
   "name": "python3"
  },
  "language_info": {
   "codemirror_mode": {
    "name": "ipython",
    "version": 3
   },
   "file_extension": ".py",
   "mimetype": "text/x-python",
   "name": "python",
   "nbconvert_exporter": "python",
   "pygments_lexer": "ipython3",
   "version": "3.8.5"
  }
 },
 "nbformat": 4,
 "nbformat_minor": 1
}
